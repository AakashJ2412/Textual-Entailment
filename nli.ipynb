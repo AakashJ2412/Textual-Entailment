{
 "cells": [
  {
   "cell_type": "code",
   "execution_count": null,
   "metadata": {},
   "outputs": [],
   "source": [
    "import os\n",
    "import re\n",
    "import torch\n",
    "from torch import nn\n",
    "from d2l import torch as d2l"
   ]
  },
  {
   "cell_type": "code",
   "execution_count": null,
   "metadata": {},
   "outputs": [],
   "source": [
    "def extract(s):\n",
    "    s = re.sub('\\\\(', '', s)\n",
    "    s = re.sub('\\\\)', '', s)\n",
    "    s = re.sub('\\\\s{2,}', ' ', s)\n",
    "    return s.strip()\n",
    "\n",
    "labels = {'entailment': 0, 'contradiction': 1, 'neutral': 2}"
   ]
  },
  {
   "cell_type": "code",
   "execution_count": null,
   "metadata": {},
   "outputs": [],
   "source": [
    "fileName = 'snli_1.0_train.txt'\n",
    "\n",
    "with open(fileName, 'r') as f:\n",
    "    trainRows = [row.split('\\t') for row in f.readlines()[1:]]\n",
    "\n",
    "trainPremises = [extract(row[1]) for row in trainRows if row[0] in labels]\n",
    "trainHypotheses = [extract(row[2]) for row in trainRows if row[0] in labels]\n",
    "trainLabels = [labels[row[0]] for row in trainRows if row[0] in labels]\n",
    "\n",
    "trainData = [trainPremises, trainHypotheses, trainLabels]\n",
    "f.close()"
   ]
  },
  {
   "cell_type": "code",
   "execution_count": null,
   "metadata": {},
   "outputs": [],
   "source": [
    "fileName = 'snli_1.0_test.txt'\n",
    "\n",
    "with open(fileName, 'r') as f:\n",
    "    testRows = [row.split('\\t') for row in f.readlines()[1:]]\n",
    "\n",
    "testPremises = [extract(row[1]) for row in testRows if row[0] in labels]\n",
    "testHypotheses = [extract(row[2]) for row in testRows if row[0] in labels]\n",
    "testLabels = [labels[row[0]] for row in testRows if row[0] in labels]\n",
    "\n",
    "testData = [testPremises, testHypotheses, testLabels]\n",
    "\n",
    "f.close()"
   ]
  },
  {
   "cell_type": "code",
   "execution_count": null,
   "metadata": {},
   "outputs": [],
   "source": [
    "sentenceLength = 50\n",
    "batchSize = 256\n",
    "numWorkers = d2l.get_dataloader_workers()\n",
    "embedSize = 100"
   ]
  },
  {
   "cell_type": "code",
   "execution_count": null,
   "metadata": {},
   "outputs": [],
   "source": [
    "class DataSet(torch.utils.data.Dataset):\n",
    "    def __init__(self, dataset, sentenceLength, vocab=None):\n",
    "        self.sentenceLength = sentenceLength\n",
    "        premiseTokens = d2l.tokenize(dataset[0])\n",
    "        hypotheisTokens = d2l.tokenize(dataset[1])\n",
    "        if vocab is None:\n",
    "            self.vocab = d2l.Vocab(premiseTokens + hypotheisTokens, min_freq=5, reserved_tokens=['<pad>'])\n",
    "        else:\n",
    "            self.vocab = vocab\n",
    "\n",
    "        self.premises = self._pad(premiseTokens)\n",
    "        self.hypotheses = self._pad(hypotheisTokens)\n",
    "        self.labels = torch.tensor(dataset[2])\n",
    "\n",
    "    def _pad(self, lines):\n",
    "        return torch.tensor([d2l.truncate_pad(self.vocab[line], self.sentenceLength, self.vocab['<pad>']) for line in lines])\n",
    "\n",
    "    def __len__(self):\n",
    "        return len(self.premises)\n",
    "\n",
    "    def __getitem__(self, idx):\n",
    "        return (self.premises[idx], self.hypotheses[idx]), self.labels[idx]\n",
    "        "
   ]
  },
  {
   "cell_type": "code",
   "execution_count": null,
   "metadata": {},
   "outputs": [],
   "source": [
    "trainSet = DataSet(trainData, sentenceLength)\n",
    "testSet = DataSet(testData, sentenceLength, trainSet.vocab)"
   ]
  },
  {
   "cell_type": "code",
   "execution_count": null,
   "metadata": {},
   "outputs": [],
   "source": [
    "trainIter = torch.utils.data.DataLoader(trainSet, batchSize, shuffle=True, num_workers=numWorkers)\n",
    "testIter = torch.utils.data.DataLoader(testSet, batchSize, shuffle=False, num_workers=numWorkers)\n",
    "vocab = trainSet.vocab"
   ]
  },
  {
   "cell_type": "code",
   "execution_count": null,
   "metadata": {},
   "outputs": [],
   "source": [
    "from torch.nn import functional as F"
   ]
  },
  {
   "cell_type": "code",
   "execution_count": null,
   "metadata": {},
   "outputs": [],
   "source": [
    "def mlp(numInputs, numHiddens, flatten):\n",
    "    net = []\n",
    "    net.append(nn.Dropout(0.2))\n",
    "    net.append(nn.Linear(numInputs, numHiddens))\n",
    "    net.append(nn.ReLU())\n",
    "    if flatten:\n",
    "        net.append(nn.Flatten(start_dim=1))\n",
    "    net.append(nn.Dropout(0.2))\n",
    "    net.append(nn.Linear(numHiddens, numHiddens))\n",
    "    net.append(nn.ReLU())\n",
    "    if flatten:\n",
    "        net.append(nn.Flatten(start_dim=1))\n",
    "    return nn.Sequential(*net)"
   ]
  },
  {
   "cell_type": "code",
   "execution_count": null,
   "metadata": {},
   "outputs": [],
   "source": [
    "class Attend(nn.Module):\n",
    "    def __init__(self, numInputs, numHiddens, **kwargs):\n",
    "        super(Attend, self).__init__(**kwargs)\n",
    "        self.f = mlp(numInputs, numHiddens, flatten=False)\n",
    "\n",
    "    def forward(self, A, B):\n",
    "        fA = self.f(A)\n",
    "        fB = self.f(B)\n",
    "        \n",
    "        e = torch.bmm(fA, fB.permute(0, 2, 1))\n",
    "        beta = torch.bmm(F.softmax(e, dim=-1), B)\n",
    "        alpha = torch.bmm(F.softmax(e.permute(0, 2, 1), dim=-1), A)\n",
    "        return beta, alpha"
   ]
  },
  {
   "cell_type": "code",
   "execution_count": null,
   "metadata": {},
   "outputs": [],
   "source": [
    "class Compare(nn.Module):\n",
    "    def __init__(self, numInputs, numHiddens, **kwargs):\n",
    "        super(Compare, self).__init__(**kwargs)\n",
    "        self.g = mlp(numInputs, numHiddens, flatten=False)\n",
    "\n",
    "    def forward(self, A, B, beta, alpha):\n",
    "        VA = self.g(torch.cat([A, beta], dim=2))\n",
    "        VB = self.g(torch.cat([B, alpha], dim=2))\n",
    "        return VA, VB"
   ]
  },
  {
   "cell_type": "code",
   "execution_count": null,
   "metadata": {},
   "outputs": [],
   "source": [
    "class Aggregate(nn.Module):\n",
    "    def __init__(self, numInputs, numHiddens, numOutputs, **kwargs):\n",
    "        super(Aggregate, self).__init__(**kwargs)\n",
    "        self.h = mlp(numInputs, numHiddens, flatten=True)\n",
    "        self.linear = nn.Linear(numHiddens, numOutputs)\n",
    "\n",
    "    def forward(self, VA, VB):\n",
    "        VA = VA.sum(dim=1)\n",
    "        VB = VB.sum(dim=1)\n",
    "        yHat = self.linear(self.h(torch.cat([VA, VB], dim=1)))\n",
    "        return yHat"
   ]
  },
  {
   "cell_type": "code",
   "execution_count": null,
   "metadata": {},
   "outputs": [],
   "source": [
    "class NLI(nn.Module):\n",
    "    def __init__(self, vocab, embedSize, numHiddens, numInputsAttend=100,\n",
    "                 numInputsCompare=200, numInputsAggregate=400, **kwargs):\n",
    "        super(NLI, self).__init__(**kwargs)\n",
    "        self.embedding = nn.Embedding(len(vocab), embedSize)\n",
    "        self.attend = Attend(numInputsAttend, numHiddens)\n",
    "        self.compare = Compare(numInputsCompare, numHiddens)\n",
    "        self.aggregate = Aggregate(numInputsAggregate, numHiddens, numOutputs=3)\n",
    "\n",
    "    def forward(self, X):\n",
    "        premises, hypotheses = X\n",
    "        A = self.embedding(premises)\n",
    "        B = self.embedding(hypotheses)\n",
    "        beta, alpha = self.attend(A, B)\n",
    "        VA, VB = self.compare(A, B, beta, alpha)\n",
    "        yHat = self.aggregate(VA, VB)\n",
    "        return yHat"
   ]
  },
  {
   "cell_type": "code",
   "execution_count": null,
   "metadata": {},
   "outputs": [],
   "source": [
    "numHiddens, devices = 200, d2l.try_all_gpus()\n",
    "model = NLI(vocab, embedSize, numHiddens)\n",
    "gloveEmbedding = d2l.TokenEmbedding('glove.6b.100d')\n",
    "embeds = gloveEmbedding[vocab.idx_to_token]\n",
    "model.embedding.weight.data.copy_(embeds);"
   ]
  },
  {
   "cell_type": "code",
   "execution_count": null,
   "metadata": {},
   "outputs": [],
   "source": [
    "learningRate, epochs = 0.001, 4\n",
    "trainer = torch.optim.Adam(model.parameters(), lr=learningRate)\n",
    "loss = nn.CrossEntropyLoss(reduction=\"none\")\n",
    "d2l.train_ch13(model, trainIter, testIter, loss, trainer, epochs, devices)"
   ]
  },
  {
   "cell_type": "code",
   "execution_count": null,
   "metadata": {},
   "outputs": [],
   "source": [
    "def predict(model, vocab, premise, hypothesis):\n",
    "    model.eval()\n",
    "    premise = torch.tensor(vocab[premise], device=d2l.try_gpu())\n",
    "    hypothesis = torch.tensor(vocab[hypothesis], device=d2l.try_gpu())\n",
    "    label = torch.argmax(model([premise.reshape((1, -1)),\n",
    "                            hypothesis.reshape((1, -1))]), dim=1)\n",
    "\n",
    "    if label == 0:\n",
    "        return 'entailment'\n",
    "    elif label == 1:\n",
    "        return 'contradiction'\n",
    "    else:\n",
    "        return 'neutral'"
   ]
  }
 ],
 "metadata": {
  "interpreter": {
   "hash": "916dbcbb3f70747c44a77c7bcd40155683ae19c65e1c03b4aa3499c5328201f1"
  },
  "kernelspec": {
   "display_name": "Python 3.8.10 64-bit",
   "language": "python",
   "name": "python3"
  },
  "language_info": {
   "codemirror_mode": {
    "name": "ipython",
    "version": 3
   },
   "file_extension": ".py",
   "mimetype": "text/x-python",
   "name": "python",
   "nbconvert_exporter": "python",
   "pygments_lexer": "ipython3",
   "version": "3.8.10"
  },
  "orig_nbformat": 4
 },
 "nbformat": 4,
 "nbformat_minor": 2
}
