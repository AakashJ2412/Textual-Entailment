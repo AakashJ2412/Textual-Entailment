{
 "cells": [
  {
   "cell_type": "code",
   "execution_count": 2,
   "metadata": {},
   "outputs": [
    {
     "name": "stderr",
     "output_type": "stream",
     "text": [
      "2022-04-27 19:39:32.252833: W tensorflow/stream_executor/platform/default/dso_loader.cc:64] Could not load dynamic library 'libcudart.so.11.0'; dlerror: libcudart.so.11.0: cannot open shared object file: No such file or directory\n",
      "2022-04-27 19:39:32.252904: I tensorflow/stream_executor/cuda/cudart_stub.cc:29] Ignore above cudart dlerror if you do not have a GPU set up on your machine.\n",
      "[nltk_data] Downloading package punkt to /home/raghav/nltk_data...\n",
      "[nltk_data]   Package punkt is already up-to-date!\n"
     ]
    }
   ],
   "source": [
    "# Import the necessary libraries\n",
    "\n",
    "import re\n",
    "from numpy import array\n",
    "from numpy import asarray\n",
    "from numpy import zeros\n",
    "\n",
    "import tensorflow as tf\n",
    "import keras\n",
    "import keras.backend as K\n",
    "from keras.models import Model\n",
    "from keras.regularizers import L2\n",
    "from keras.layers.embeddings import Embedding\n",
    "from keras.layers import Dense, Dropout, Input, LSTM\n",
    "from keras.preprocessing.sequence import pad_sequences\n",
    "from keras.preprocessing.text import Tokenizer\n",
    "from keras.callbacks import EarlyStopping\n",
    "\n",
    "import nltk\n",
    "nltk.download('punkt')\n",
    "from nltk.tokenize import word_tokenize"
   ]
  },
  {
   "cell_type": "code",
   "execution_count": 3,
   "metadata": {},
   "outputs": [],
   "source": [
    "# Helper function that cleans the input data and enumerates the labels\n",
    "\n",
    "def extract(s):\n",
    "    s = re.sub('\\\\(', '', s)\n",
    "    s = re.sub('\\\\)', '', s)\n",
    "    s = re.sub('\\\\s{2,}', ' ', s)\n",
    "    return s.strip()\n",
    "\n",
    "labels = {'ENTAILMENT': 0, 'CONTRADICTION': 1, 'NEUTRAL': 2}"
   ]
  },
  {
   "cell_type": "code",
   "execution_count": 4,
   "metadata": {},
   "outputs": [],
   "source": [
    "# Function that reads data and parses data from file\n",
    "\n",
    "fileName = 'SICK.txt'\n",
    "\n",
    "with open(fileName, 'r') as f:\n",
    "    Rows = [row.split('\\t') for row in f.readlines()[1:]]\n",
    "\n",
    "trainRows = [row for row in Rows if row[11]=='TRAIN\\n']\n",
    "testRows = [row for row in Rows if row[11]=='TEST\\n']\n",
    "validationRows = [row for row in Rows if row[11]=='TRIAL\\n']\n",
    "\n",
    "trainPremises = [extract(row[1]) for row in trainRows if row[3] in labels]\n",
    "trainHypotheses = [extract(row[2]) for row in trainRows if row[3] in labels]\n",
    "trainLabels = [labels[row[3]] for row in trainRows if row[3] in labels]\n",
    "\n",
    "trainData = [trainPremises, trainHypotheses, trainLabels]\n",
    "\n",
    "testPremises = [extract(row[1]) for row in testRows if row[3] in labels]\n",
    "testHypotheses = [extract(row[2]) for row in testRows if row[3] in labels]\n",
    "testLabels = [labels[row[3]] for row in testRows if row[3] in labels]\n",
    "\n",
    "testData = [testPremises, testHypotheses, testLabels]\n",
    "\n",
    "validationPremises = [extract(row[1]) for row in validationRows if row[3] in labels]\n",
    "validationHypotheses = [extract(row[2]) for row in validationRows if row[3] in labels]\n",
    "validationLabels = [labels[row[3]] for row in validationRows if row[3] in labels]\n",
    "\n",
    "validationData = [validationPremises, validationHypotheses, validationLabels]\n",
    "\n",
    "f.close()"
   ]
  },
  {
   "cell_type": "code",
   "execution_count": 5,
   "metadata": {},
   "outputs": [],
   "source": [
    "# Hyperparameters\n",
    "\n",
    "maxLen = 32\n",
    "epochs = 1000\n",
    "batchSize = 512\n",
    "gloveDimension = 300\n",
    "hiddenDimension = 100\n",
    "regularization = 4e-6"
   ]
  },
  {
   "cell_type": "code",
   "execution_count": 6,
   "metadata": {},
   "outputs": [],
   "source": [
    "# Tokenizer to generate the vocabulary of the system\n",
    "\n",
    "tokenizer = Tokenizer()\n",
    "tokenizer.fit_on_texts(trainData[0] + trainData[1])\n",
    "vocabSize = len(tokenizer.word_index)+1"
   ]
  },
  {
   "cell_type": "code",
   "execution_count": 7,
   "metadata": {},
   "outputs": [],
   "source": [
    "# Convert the train data to sequences as per the vocabulary\n",
    "trainData[0] = tokenizer.texts_to_sequences(trainData[0])\n",
    "trainData[1] = tokenizer.texts_to_sequences(trainData[1])\n",
    "\n",
    "# Pad or trim all generated sequences to the same max sentence length\n",
    "trainData[0] = pad_sequences(trainData[0], maxLen, padding='post')\n",
    "trainData[1] = pad_sequences(trainData[1], maxLen, padding='post')\n",
    "\n",
    "# Transform the labels to one-hot encoding\n",
    "trainData[2] = tf.keras.utils.to_categorical(trainData[2], num_classes=3)"
   ]
  },
  {
   "cell_type": "code",
   "execution_count": 8,
   "metadata": {},
   "outputs": [],
   "source": [
    "# Convert the test data to sequences as per the vocabulary\n",
    "testData[0] = tokenizer.texts_to_sequences(testData[0])\n",
    "testData[1] = tokenizer.texts_to_sequences(testData[1])\n",
    "\n",
    "# Pad or trim all generated sequences to the same max sentence length\n",
    "testData[0] = pad_sequences(testData[0], maxLen, padding='post')\n",
    "testData[1] = pad_sequences(testData[1], maxLen, padding='post')\n",
    "\n",
    "# Transform the labels to one-hot encoding\n",
    "testData[2] = tf.keras.utils.to_categorical(testData[2], num_classes=3)"
   ]
  },
  {
   "cell_type": "code",
   "execution_count": 9,
   "metadata": {},
   "outputs": [],
   "source": [
    "# Convert the validation data to sequences as per the vocabulary\n",
    "validationData[0] = tokenizer.texts_to_sequences(validationData[0])\n",
    "validationData[1] = tokenizer.texts_to_sequences(validationData[1])\n",
    "\n",
    "# Pad or trim all generated sequences to the same max sentence length\n",
    "validationData[0] = pad_sequences(validationData[0], maxLen, padding='post')\n",
    "validationData[1] = pad_sequences(validationData[1], maxLen, padding='post')\n",
    "\n",
    "# Transform the labels to one-hot encoding\n",
    "validationData[2] = tf.keras.utils.to_categorical(validationData[2], num_classes=3)"
   ]
  },
  {
   "cell_type": "code",
   "execution_count": 10,
   "metadata": {},
   "outputs": [],
   "source": [
    "embeddingsDict = dict()\n",
    "glove = open(r'glove.840B.300d.txt', encoding='utf8')\n",
    "\n",
    "for line in glove:\n",
    "    records = line.split()\n",
    "    word = ''.join(records[:-300])\n",
    "    vectorDimensions = asarray(records[-300:], dtype='float32')\n",
    "    embeddingsDict[word] = vectorDimensions\n",
    "\n",
    "glove.close()"
   ]
  },
  {
   "cell_type": "code",
   "execution_count": 11,
   "metadata": {},
   "outputs": [],
   "source": [
    "# Iterate through the embeddings and store only those that are present in our vocabulary\n",
    "embeddingsMat = zeros((vocabSize, gloveDimension))\n",
    "for word, index in tokenizer.word_index.items():\n",
    "    vec = embeddingsDict.get(word)\n",
    "    if vec is not None:\n",
    "        embeddingsMat[index] = vec"
   ]
  },
  {
   "cell_type": "code",
   "execution_count": 12,
   "metadata": {},
   "outputs": [
    {
     "name": "stderr",
     "output_type": "stream",
     "text": [
      "2022-04-27 19:43:12.677321: I tensorflow/stream_executor/cuda/cuda_gpu_executor.cc:922] could not open file to read NUMA node: /sys/bus/pci/devices/0000:01:00.0/numa_node\n",
      "Your kernel may have been built without NUMA support.\n",
      "2022-04-27 19:43:12.687496: W tensorflow/stream_executor/platform/default/dso_loader.cc:64] Could not load dynamic library 'libcudart.so.11.0'; dlerror: libcudart.so.11.0: cannot open shared object file: No such file or directory\n",
      "2022-04-27 19:43:12.687885: W tensorflow/stream_executor/platform/default/dso_loader.cc:64] Could not load dynamic library 'libcublas.so.11'; dlerror: libcublas.so.11: cannot open shared object file: No such file or directory\n",
      "2022-04-27 19:43:12.687971: W tensorflow/stream_executor/platform/default/dso_loader.cc:64] Could not load dynamic library 'libcublasLt.so.11'; dlerror: libcublasLt.so.11: cannot open shared object file: No such file or directory\n",
      "2022-04-27 19:43:12.688040: W tensorflow/stream_executor/platform/default/dso_loader.cc:64] Could not load dynamic library 'libcufft.so.10'; dlerror: libcufft.so.10: cannot open shared object file: No such file or directory\n",
      "2022-04-27 19:43:12.688108: W tensorflow/stream_executor/platform/default/dso_loader.cc:64] Could not load dynamic library 'libcurand.so.10'; dlerror: libcurand.so.10: cannot open shared object file: No such file or directory\n",
      "2022-04-27 19:43:12.688391: W tensorflow/stream_executor/platform/default/dso_loader.cc:64] Could not load dynamic library 'libcusolver.so.11'; dlerror: libcusolver.so.11: cannot open shared object file: No such file or directory\n",
      "2022-04-27 19:43:12.688498: W tensorflow/stream_executor/platform/default/dso_loader.cc:64] Could not load dynamic library 'libcusparse.so.11'; dlerror: libcusparse.so.11: cannot open shared object file: No such file or directory\n",
      "2022-04-27 19:43:12.688587: W tensorflow/stream_executor/platform/default/dso_loader.cc:64] Could not load dynamic library 'libcudnn.so.8'; dlerror: libcudnn.so.8: cannot open shared object file: No such file or directory\n",
      "2022-04-27 19:43:12.688602: W tensorflow/core/common_runtime/gpu/gpu_device.cc:1850] Cannot dlopen some GPU libraries. Please make sure the missing libraries mentioned above are installed properly if you would like to use GPU. Follow the guide at https://www.tensorflow.org/install/gpu for how to download and setup the required libraries for your platform.\n",
      "Skipping registering GPU devices...\n",
      "2022-04-27 19:43:12.690951: I tensorflow/core/platform/cpu_feature_guard.cc:151] This TensorFlow binary is optimized with oneAPI Deep Neural Network Library (oneDNN) to use the following CPU instructions in performance-critical operations:  AVX2 FMA\n",
      "To enable them in other operations, rebuild TensorFlow with the appropriate compiler flags.\n"
     ]
    }
   ],
   "source": [
    "# Define the embedding layer for our baseline RNN model\n",
    "embed = Embedding(vocabSize, gloveDimension, weights=[embeddingsMat], input_length=maxLen, trainable=False)\n",
    "\n",
    "# As Premise and Hypothesis are distinct and are to be inputted separately, define two inputs and embed\n",
    "premise = Input(shape=(maxLen,), dtype='int32')\n",
    "hypothesis = Input(shape=(maxLen,), dtype='int32')\n",
    "\n",
    "premInput = embed(premise)\n",
    "hypoInput = embed(hypothesis)\n",
    "\n",
    "convert = Dense(hiddenDimension, activation='tanh', input_shape=(gloveDimension,))\n",
    "\n",
    "premInput = convert(premInput)\n",
    "hypoInput = convert(hypoInput)"
   ]
  },
  {
   "cell_type": "code",
   "execution_count": 13,
   "metadata": {},
   "outputs": [],
   "source": [
    "# Once the sentence embeddings have been generated, generate a matrix of dimensions maxLen X gloveDimension\n",
    "# On adding maxLen, we get a single embedding vector of length gloveDimension\n",
    "\n",
    "#rnn = keras.layers.core.Lambda(lambda x: K.sum(x, axis=1), output_shape=hiddenDimension)\n",
    "rnn = LSTM(hiddenDimension, dropout=0.2, recurrent_dropout=0.2)"
   ]
  },
  {
   "cell_type": "code",
   "execution_count": 14,
   "metadata": {},
   "outputs": [],
   "source": [
    "# Apply batch normalization to the two input embeddings separately\n",
    "\n",
    "premInput = rnn(premInput)\n",
    "hypoInput = rnn(hypoInput)\n",
    "premInput = tf.keras.layers.BatchNormalization()(premInput)\n",
    "hypoInput = tf.keras.layers.BatchNormalization()(hypoInput)"
   ]
  },
  {
   "cell_type": "code",
   "execution_count": 15,
   "metadata": {},
   "outputs": [],
   "source": [
    "# Joint is a concatenated embeddings layer, generated from the premise and hypothesis inputs\n",
    "# Dilution of probability 0.2, to assist in regularization\n",
    "joint = keras.layers.concatenate([premInput, hypoInput])\n",
    "joint = Dropout(0.2)(joint)\n",
    "for i in range(3):\n",
    "    joint = Dense(2*hiddenDimension, activation='tanh', kernel_regularizer=L2(regularization))(joint)\n",
    "    joint = Dropout(0.2)(joint)\n",
    "    joint = tf.keras.layers.BatchNormalization()(joint)\n",
    "\n",
    "# 3 layers of the TanH activation function, along with L2 regularization.\n",
    "# The final decision is based on the Softmax function\n",
    "pred = Dense(3, activation='softmax')(joint)"
   ]
  },
  {
   "cell_type": "code",
   "execution_count": 16,
   "metadata": {},
   "outputs": [],
   "source": [
    "# Defining the final models input and output format, as well as compilation parameters\n",
    "\n",
    "model = Model(inputs=[premise, hypothesis], outputs=pred)\n",
    "model.compile(optimizer='rmsprop', loss='categorical_crossentropy', metrics=['accuracy'])"
   ]
  },
  {
   "cell_type": "code",
   "execution_count": 25,
   "metadata": {},
   "outputs": [
    {
     "name": "stdout",
     "output_type": "stream",
     "text": [
      "Epoch 1/1000\n",
      "9/9 [==============================] - 7s 742ms/step - loss: 0.4237 - accuracy: 0.8141 - val_loss: 0.7731 - val_accuracy: 0.6869\n",
      "Epoch 2/1000\n",
      "9/9 [==============================] - 7s 755ms/step - loss: 0.4027 - accuracy: 0.8281 - val_loss: 0.8560 - val_accuracy: 0.6909\n",
      "Epoch 3/1000\n",
      "9/9 [==============================] - 7s 770ms/step - loss: 0.4032 - accuracy: 0.8315 - val_loss: 0.8502 - val_accuracy: 0.6626\n",
      "Epoch 4/1000\n",
      "9/9 [==============================] - 7s 753ms/step - loss: 0.4121 - accuracy: 0.8254 - val_loss: 0.7565 - val_accuracy: 0.7172\n",
      "Epoch 5/1000\n",
      "9/9 [==============================] - 7s 752ms/step - loss: 0.3982 - accuracy: 0.8328 - val_loss: 0.8119 - val_accuracy: 0.6889\n",
      "Epoch 6/1000\n",
      "9/9 [==============================] - 7s 748ms/step - loss: 0.3998 - accuracy: 0.8355 - val_loss: 0.7744 - val_accuracy: 0.6929\n",
      "Epoch 7/1000\n",
      "9/9 [==============================] - 7s 771ms/step - loss: 0.3985 - accuracy: 0.8398 - val_loss: 0.7590 - val_accuracy: 0.6970\n",
      "Epoch 8/1000\n",
      "9/9 [==============================] - 7s 742ms/step - loss: 0.3803 - accuracy: 0.8389 - val_loss: 0.8252 - val_accuracy: 0.6788\n",
      "Epoch 9/1000\n",
      "9/9 [==============================] - 7s 760ms/step - loss: 0.3893 - accuracy: 0.8425 - val_loss: 0.8132 - val_accuracy: 0.6869\n",
      "Epoch 10/1000\n",
      "9/9 [==============================] - 7s 748ms/step - loss: 0.3820 - accuracy: 0.8362 - val_loss: 0.7853 - val_accuracy: 0.6970\n",
      "Epoch 11/1000\n",
      "9/9 [==============================] - 7s 734ms/step - loss: 0.3803 - accuracy: 0.8392 - val_loss: 0.8144 - val_accuracy: 0.6909\n",
      "Epoch 12/1000\n",
      "9/9 [==============================] - 7s 765ms/step - loss: 0.3715 - accuracy: 0.8432 - val_loss: 0.8031 - val_accuracy: 0.6990\n",
      "Epoch 13/1000\n",
      "9/9 [==============================] - 7s 751ms/step - loss: 0.3672 - accuracy: 0.8502 - val_loss: 0.8507 - val_accuracy: 0.6727\n",
      "Epoch 14/1000\n",
      "9/9 [==============================] - 7s 742ms/step - loss: 0.3653 - accuracy: 0.8522 - val_loss: 0.8367 - val_accuracy: 0.7152\n",
      "Epoch 15/1000\n",
      "9/9 [==============================] - 7s 751ms/step - loss: 0.3601 - accuracy: 0.8520 - val_loss: 0.8378 - val_accuracy: 0.6929\n",
      "Epoch 16/1000\n",
      "9/9 [==============================] - 7s 752ms/step - loss: 0.3523 - accuracy: 0.8601 - val_loss: 0.7930 - val_accuracy: 0.7172\n",
      "Epoch 17/1000\n",
      "9/9 [==============================] - 7s 746ms/step - loss: 0.3571 - accuracy: 0.8572 - val_loss: 0.9309 - val_accuracy: 0.6929\n",
      "Epoch 18/1000\n",
      "9/9 [==============================] - 7s 745ms/step - loss: 0.3519 - accuracy: 0.8531 - val_loss: 0.8161 - val_accuracy: 0.6929\n",
      "Epoch 19/1000\n",
      "9/9 [==============================] - 7s 781ms/step - loss: 0.3602 - accuracy: 0.8511 - val_loss: 0.8390 - val_accuracy: 0.7010\n",
      "Epoch 20/1000\n",
      "9/9 [==============================] - 7s 754ms/step - loss: 0.3450 - accuracy: 0.8633 - val_loss: 0.8487 - val_accuracy: 0.7030\n",
      "Epoch 21/1000\n",
      "9/9 [==============================] - 7s 783ms/step - loss: 0.3576 - accuracy: 0.8547 - val_loss: 0.8711 - val_accuracy: 0.7010\n",
      "Epoch 22/1000\n",
      "9/9 [==============================] - 6s 709ms/step - loss: 0.3298 - accuracy: 0.8642 - val_loss: 0.8898 - val_accuracy: 0.6929\n",
      "Epoch 23/1000\n",
      "9/9 [==============================] - 6s 704ms/step - loss: 0.3478 - accuracy: 0.8588 - val_loss: 0.8366 - val_accuracy: 0.7051\n",
      "Epoch 24/1000\n",
      "9/9 [==============================] - 6s 703ms/step - loss: 0.3338 - accuracy: 0.8673 - val_loss: 0.7976 - val_accuracy: 0.7111\n",
      "Epoch 25/1000\n",
      "9/9 [==============================] - 6s 704ms/step - loss: 0.3393 - accuracy: 0.8621 - val_loss: 0.7438 - val_accuracy: 0.7414\n",
      "Epoch 26/1000\n",
      "9/9 [==============================] - 6s 713ms/step - loss: 0.3268 - accuracy: 0.8707 - val_loss: 0.7420 - val_accuracy: 0.7232\n",
      "Epoch 27/1000\n",
      "9/9 [==============================] - 6s 711ms/step - loss: 0.3231 - accuracy: 0.8684 - val_loss: 0.8768 - val_accuracy: 0.6970\n",
      "Epoch 28/1000\n",
      "9/9 [==============================] - 6s 706ms/step - loss: 0.3246 - accuracy: 0.8675 - val_loss: 0.9082 - val_accuracy: 0.7091\n",
      "Epoch 29/1000\n",
      "9/9 [==============================] - 6s 711ms/step - loss: 0.3228 - accuracy: 0.8671 - val_loss: 0.7672 - val_accuracy: 0.7071\n",
      "Epoch 30/1000\n",
      "9/9 [==============================] - 6s 713ms/step - loss: 0.3045 - accuracy: 0.8784 - val_loss: 0.8822 - val_accuracy: 0.7030\n",
      "Epoch 31/1000\n",
      "9/9 [==============================] - 6s 717ms/step - loss: 0.3012 - accuracy: 0.8820 - val_loss: 0.7528 - val_accuracy: 0.7152\n",
      "Epoch 32/1000\n",
      "9/9 [==============================] - 6s 701ms/step - loss: 0.3226 - accuracy: 0.8687 - val_loss: 0.8509 - val_accuracy: 0.7232\n",
      "Epoch 33/1000\n",
      "9/9 [==============================] - 6s 714ms/step - loss: 0.3028 - accuracy: 0.8774 - val_loss: 0.7936 - val_accuracy: 0.7253\n",
      "Epoch 34/1000\n",
      "9/9 [==============================] - 7s 722ms/step - loss: 0.3181 - accuracy: 0.8745 - val_loss: 0.8861 - val_accuracy: 0.6990\n",
      "Epoch 35/1000\n",
      "9/9 [==============================] - 6s 701ms/step - loss: 0.3059 - accuracy: 0.8788 - val_loss: 0.9829 - val_accuracy: 0.6747\n",
      "Epoch 36/1000\n",
      "9/9 [==============================] - 7s 765ms/step - loss: 0.3043 - accuracy: 0.8808 - val_loss: 0.8878 - val_accuracy: 0.7051\n",
      "Epoch 37/1000\n",
      "9/9 [==============================] - 6s 710ms/step - loss: 0.3052 - accuracy: 0.8774 - val_loss: 0.8290 - val_accuracy: 0.6949\n",
      "Epoch 38/1000\n",
      "9/9 [==============================] - 6s 706ms/step - loss: 0.3037 - accuracy: 0.8831 - val_loss: 0.8587 - val_accuracy: 0.7152\n",
      "Epoch 39/1000\n",
      "9/9 [==============================] - 6s 707ms/step - loss: 0.2985 - accuracy: 0.8824 - val_loss: 0.9200 - val_accuracy: 0.7071\n",
      "Epoch 40/1000\n",
      "9/9 [==============================] - 6s 709ms/step - loss: 0.2783 - accuracy: 0.8907 - val_loss: 0.8812 - val_accuracy: 0.7111\n",
      "Epoch 41/1000\n",
      "9/9 [==============================] - 6s 702ms/step - loss: 0.2814 - accuracy: 0.8889 - val_loss: 0.8566 - val_accuracy: 0.7253\n",
      "Epoch 42/1000\n",
      "9/9 [==============================] - 6s 704ms/step - loss: 0.2900 - accuracy: 0.8876 - val_loss: 0.8310 - val_accuracy: 0.6990\n",
      "Epoch 43/1000\n",
      "9/9 [==============================] - 6s 696ms/step - loss: 0.2860 - accuracy: 0.8853 - val_loss: 0.8644 - val_accuracy: 0.7091\n",
      "Epoch 44/1000\n",
      "9/9 [==============================] - 7s 723ms/step - loss: 0.2700 - accuracy: 0.8901 - val_loss: 0.8331 - val_accuracy: 0.7293\n",
      "Epoch 45/1000\n",
      "9/9 [==============================] - 6s 704ms/step - loss: 0.2836 - accuracy: 0.8878 - val_loss: 0.9244 - val_accuracy: 0.7172\n",
      "Epoch 46/1000\n",
      "9/9 [==============================] - 7s 720ms/step - loss: 0.2818 - accuracy: 0.8867 - val_loss: 0.8666 - val_accuracy: 0.7273\n",
      "Epoch 47/1000\n",
      "9/9 [==============================] - 7s 721ms/step - loss: 0.2669 - accuracy: 0.8982 - val_loss: 0.8624 - val_accuracy: 0.7253\n",
      "Epoch 48/1000\n",
      "9/9 [==============================] - 7s 839ms/step - loss: 0.2787 - accuracy: 0.8858 - val_loss: 0.9325 - val_accuracy: 0.7192\n",
      "Epoch 49/1000\n",
      "9/9 [==============================] - 7s 768ms/step - loss: 0.2843 - accuracy: 0.8862 - val_loss: 0.8819 - val_accuracy: 0.7091\n",
      "Epoch 50/1000\n",
      "9/9 [==============================] - 6s 706ms/step - loss: 0.2609 - accuracy: 0.8991 - val_loss: 0.9271 - val_accuracy: 0.7010\n",
      "Epoch 51/1000\n",
      "9/9 [==============================] - 6s 703ms/step - loss: 0.2665 - accuracy: 0.8948 - val_loss: 0.8169 - val_accuracy: 0.7293\n",
      "Epoch 52/1000\n",
      "9/9 [==============================] - 6s 700ms/step - loss: 0.2605 - accuracy: 0.9016 - val_loss: 0.9235 - val_accuracy: 0.7071\n",
      "Epoch 53/1000\n",
      "9/9 [==============================] - 7s 726ms/step - loss: 0.2542 - accuracy: 0.9016 - val_loss: 0.8535 - val_accuracy: 0.7253\n",
      "Epoch 54/1000\n",
      "9/9 [==============================] - 7s 720ms/step - loss: 0.2573 - accuracy: 0.9004 - val_loss: 0.9441 - val_accuracy: 0.7131\n",
      "Epoch 55/1000\n",
      "9/9 [==============================] - 6s 711ms/step - loss: 0.2709 - accuracy: 0.8959 - val_loss: 0.8481 - val_accuracy: 0.7273\n",
      "Epoch 56/1000\n",
      "9/9 [==============================] - 6s 714ms/step - loss: 0.2419 - accuracy: 0.9029 - val_loss: 0.8875 - val_accuracy: 0.7293\n"
     ]
    },
    {
     "data": {
      "text/plain": [
       "<keras.callbacks.History at 0x7fade6a62d90>"
      ]
     },
     "execution_count": 25,
     "metadata": {},
     "output_type": "execute_result"
    }
   ],
   "source": [
    "# Fitting the model using the train data\n",
    "\n",
    "callback = EarlyStopping(monitor='val_loss', min_delta=0, patience=30)\n",
    "model.fit([array(trainData[0]), array(trainData[1])], array(trainData[2]), batch_size=batchSize, epochs=epochs, callbacks=[callback], validation_data=[[array(validationData[0]), array(validationData[1])], array(validationData[2])])"
   ]
  },
  {
   "cell_type": "code",
   "execution_count": 26,
   "metadata": {},
   "outputs": [
    {
     "name": "stdout",
     "output_type": "stream",
     "text": [
      "20/20 [==============================] - 2s 118ms/step - loss: 0.9689 - accuracy: 0.7161\n",
      "Loss =  0.9689082503318787\n",
      "Acc =  0.7160619497299194\n"
     ]
    }
   ],
   "source": [
    "# Evaluating accuracy on the trained model\n",
    "\n",
    "loss, acc = model.evaluate([array(testData[0]), array(testData[1])], array(testData[2]), batch_size=256)\n",
    "print('Loss = ', loss)\n",
    "print('Acc = ', acc)"
   ]
  },
  {
   "cell_type": "code",
   "execution_count": 29,
   "metadata": {},
   "outputs": [
    {
     "name": "stdout",
     "output_type": "stream",
     "text": [
      "Epoch 1/1000\n",
      "9/9 [==============================] - 7s 733ms/step - loss: 0.1720 - accuracy: 0.9342 - val_loss: 1.1172 - val_accuracy: 0.7071\n",
      "Epoch 2/1000\n",
      "9/9 [==============================] - 7s 750ms/step - loss: 0.1756 - accuracy: 0.9385 - val_loss: 1.0985 - val_accuracy: 0.7273\n",
      "Epoch 3/1000\n",
      "9/9 [==============================] - 7s 753ms/step - loss: 0.1837 - accuracy: 0.9315 - val_loss: 1.0417 - val_accuracy: 0.7273\n",
      "Epoch 4/1000\n",
      "9/9 [==============================] - 8s 893ms/step - loss: 0.1630 - accuracy: 0.9390 - val_loss: 1.0075 - val_accuracy: 0.7354\n",
      "Epoch 5/1000\n",
      "9/9 [==============================] - 7s 737ms/step - loss: 0.1618 - accuracy: 0.9414 - val_loss: 0.9839 - val_accuracy: 0.7374\n",
      "Epoch 6/1000\n",
      "9/9 [==============================] - 7s 737ms/step - loss: 0.1733 - accuracy: 0.9365 - val_loss: 1.0187 - val_accuracy: 0.7293\n",
      "Epoch 7/1000\n",
      "9/9 [==============================] - 7s 729ms/step - loss: 0.1519 - accuracy: 0.9457 - val_loss: 1.0140 - val_accuracy: 0.7354\n",
      "Epoch 8/1000\n",
      "9/9 [==============================] - 7s 731ms/step - loss: 0.1533 - accuracy: 0.9459 - val_loss: 1.1103 - val_accuracy: 0.7192\n",
      "Epoch 9/1000\n",
      "9/9 [==============================] - 7s 735ms/step - loss: 0.1509 - accuracy: 0.9457 - val_loss: 1.0726 - val_accuracy: 0.7414\n",
      "Epoch 10/1000\n",
      "9/9 [==============================] - 7s 747ms/step - loss: 0.1645 - accuracy: 0.9374 - val_loss: 1.1415 - val_accuracy: 0.7354\n",
      "Epoch 11/1000\n",
      "9/9 [==============================] - 7s 724ms/step - loss: 0.1410 - accuracy: 0.9498 - val_loss: 1.1531 - val_accuracy: 0.7273\n",
      "Epoch 12/1000\n",
      "9/9 [==============================] - 7s 766ms/step - loss: 0.1559 - accuracy: 0.9441 - val_loss: 1.0263 - val_accuracy: 0.7333\n",
      "Epoch 13/1000\n",
      "9/9 [==============================] - 7s 723ms/step - loss: 0.1498 - accuracy: 0.9426 - val_loss: 1.1019 - val_accuracy: 0.7293\n",
      "Epoch 14/1000\n",
      "9/9 [==============================] - 7s 734ms/step - loss: 0.1434 - accuracy: 0.9468 - val_loss: 1.1511 - val_accuracy: 0.7374\n",
      "Epoch 15/1000\n",
      "9/9 [==============================] - 7s 753ms/step - loss: 0.1438 - accuracy: 0.9489 - val_loss: 1.1072 - val_accuracy: 0.7475\n",
      "Epoch 16/1000\n",
      "9/9 [==============================] - 7s 787ms/step - loss: 0.1426 - accuracy: 0.9502 - val_loss: 1.1157 - val_accuracy: 0.7293\n",
      "Epoch 17/1000\n",
      "9/9 [==============================] - 6s 709ms/step - loss: 0.1415 - accuracy: 0.9504 - val_loss: 1.0597 - val_accuracy: 0.7414\n",
      "Epoch 18/1000\n",
      "9/9 [==============================] - 6s 694ms/step - loss: 0.1558 - accuracy: 0.9446 - val_loss: 1.0230 - val_accuracy: 0.7515\n",
      "Epoch 19/1000\n",
      "9/9 [==============================] - 6s 693ms/step - loss: 0.1470 - accuracy: 0.9473 - val_loss: 1.1397 - val_accuracy: 0.7232\n",
      "Epoch 20/1000\n",
      "9/9 [==============================] - 6s 695ms/step - loss: 0.1527 - accuracy: 0.9468 - val_loss: 1.0917 - val_accuracy: 0.7313\n",
      "Epoch 21/1000\n",
      "9/9 [==============================] - 6s 696ms/step - loss: 0.1421 - accuracy: 0.9502 - val_loss: 1.1409 - val_accuracy: 0.7313\n",
      "Epoch 22/1000\n",
      "9/9 [==============================] - 6s 700ms/step - loss: 0.1387 - accuracy: 0.9511 - val_loss: 1.0477 - val_accuracy: 0.7394\n",
      "Epoch 23/1000\n",
      "9/9 [==============================] - 6s 693ms/step - loss: 0.1347 - accuracy: 0.9504 - val_loss: 1.2146 - val_accuracy: 0.7071\n",
      "Epoch 24/1000\n",
      "9/9 [==============================] - 6s 695ms/step - loss: 0.1444 - accuracy: 0.9502 - val_loss: 1.1641 - val_accuracy: 0.7293\n",
      "Epoch 25/1000\n",
      "9/9 [==============================] - 6s 701ms/step - loss: 0.1456 - accuracy: 0.9484 - val_loss: 1.1174 - val_accuracy: 0.7455\n",
      "Epoch 26/1000\n",
      "9/9 [==============================] - 7s 728ms/step - loss: 0.1397 - accuracy: 0.9495 - val_loss: 1.0951 - val_accuracy: 0.7414\n",
      "Epoch 27/1000\n",
      "9/9 [==============================] - 6s 691ms/step - loss: 0.1322 - accuracy: 0.9531 - val_loss: 1.1693 - val_accuracy: 0.7273\n",
      "Epoch 28/1000\n",
      "9/9 [==============================] - 6s 712ms/step - loss: 0.1277 - accuracy: 0.9522 - val_loss: 1.0817 - val_accuracy: 0.7556\n",
      "Epoch 29/1000\n",
      "9/9 [==============================] - 6s 704ms/step - loss: 0.1386 - accuracy: 0.9516 - val_loss: 1.0429 - val_accuracy: 0.7576\n",
      "Epoch 30/1000\n",
      "9/9 [==============================] - 6s 706ms/step - loss: 0.1422 - accuracy: 0.9486 - val_loss: 1.1685 - val_accuracy: 0.7313\n",
      "Epoch 31/1000\n",
      "9/9 [==============================] - 6s 707ms/step - loss: 0.1288 - accuracy: 0.9558 - val_loss: 1.2673 - val_accuracy: 0.7212\n",
      "Epoch 32/1000\n",
      "9/9 [==============================] - 6s 695ms/step - loss: 0.1230 - accuracy: 0.9579 - val_loss: 1.1831 - val_accuracy: 0.7273\n",
      "Epoch 33/1000\n",
      "9/9 [==============================] - 6s 705ms/step - loss: 0.1406 - accuracy: 0.9502 - val_loss: 1.1470 - val_accuracy: 0.7313\n",
      "Epoch 34/1000\n",
      "9/9 [==============================] - 7s 815ms/step - loss: 0.1202 - accuracy: 0.9579 - val_loss: 1.2572 - val_accuracy: 0.7192\n",
      "Epoch 35/1000\n",
      "9/9 [==============================] - 7s 719ms/step - loss: 0.1311 - accuracy: 0.9529 - val_loss: 1.0427 - val_accuracy: 0.7354\n",
      "Epoch 36/1000\n",
      "9/9 [==============================] - 6s 690ms/step - loss: 0.1274 - accuracy: 0.9554 - val_loss: 1.1228 - val_accuracy: 0.7313\n",
      "Epoch 37/1000\n",
      "9/9 [==============================] - 7s 723ms/step - loss: 0.1229 - accuracy: 0.9565 - val_loss: 1.2319 - val_accuracy: 0.7293\n",
      "Epoch 38/1000\n",
      "9/9 [==============================] - 6s 691ms/step - loss: 0.1386 - accuracy: 0.9493 - val_loss: 1.2394 - val_accuracy: 0.7313\n",
      "Epoch 39/1000\n",
      "9/9 [==============================] - 6s 703ms/step - loss: 0.1403 - accuracy: 0.9491 - val_loss: 1.0826 - val_accuracy: 0.7475\n",
      "Epoch 40/1000\n",
      "9/9 [==============================] - 6s 697ms/step - loss: 0.1156 - accuracy: 0.9583 - val_loss: 1.1249 - val_accuracy: 0.7475\n",
      "Epoch 41/1000\n",
      "9/9 [==============================] - 6s 719ms/step - loss: 0.1181 - accuracy: 0.9574 - val_loss: 1.1966 - val_accuracy: 0.7030\n",
      "Epoch 42/1000\n",
      "9/9 [==============================] - 7s 732ms/step - loss: 0.1170 - accuracy: 0.9590 - val_loss: 1.1571 - val_accuracy: 0.7475\n",
      "Epoch 43/1000\n",
      "9/9 [==============================] - 6s 696ms/step - loss: 0.1356 - accuracy: 0.9554 - val_loss: 1.1482 - val_accuracy: 0.7414\n",
      "Epoch 44/1000\n",
      "9/9 [==============================] - 6s 684ms/step - loss: 0.1124 - accuracy: 0.9604 - val_loss: 1.1942 - val_accuracy: 0.7253\n",
      "Epoch 45/1000\n",
      "9/9 [==============================] - 6s 692ms/step - loss: 0.1441 - accuracy: 0.9477 - val_loss: 1.1617 - val_accuracy: 0.7394\n",
      "Epoch 46/1000\n",
      "9/9 [==============================] - 6s 695ms/step - loss: 0.1056 - accuracy: 0.9633 - val_loss: 1.1500 - val_accuracy: 0.7273\n",
      "Epoch 47/1000\n",
      "9/9 [==============================] - 6s 700ms/step - loss: 0.1122 - accuracy: 0.9622 - val_loss: 1.2774 - val_accuracy: 0.7253\n",
      "Epoch 48/1000\n",
      "9/9 [==============================] - 6s 692ms/step - loss: 0.1319 - accuracy: 0.9518 - val_loss: 1.2580 - val_accuracy: 0.7232\n",
      "Epoch 49/1000\n",
      "9/9 [==============================] - 6s 698ms/step - loss: 0.1220 - accuracy: 0.9608 - val_loss: 1.2986 - val_accuracy: 0.7192\n",
      "Epoch 50/1000\n",
      "9/9 [==============================] - 6s 718ms/step - loss: 0.1199 - accuracy: 0.9592 - val_loss: 1.2144 - val_accuracy: 0.7212\n",
      "Epoch 51/1000\n",
      "9/9 [==============================] - 6s 692ms/step - loss: 0.1183 - accuracy: 0.9610 - val_loss: 1.2130 - val_accuracy: 0.7212\n",
      "Epoch 52/1000\n",
      "9/9 [==============================] - 6s 694ms/step - loss: 0.1116 - accuracy: 0.9624 - val_loss: 1.1798 - val_accuracy: 0.7313\n",
      "Epoch 53/1000\n",
      "9/9 [==============================] - 6s 706ms/step - loss: 0.1099 - accuracy: 0.9617 - val_loss: 1.2523 - val_accuracy: 0.7192\n",
      "Epoch 54/1000\n",
      "9/9 [==============================] - 6s 687ms/step - loss: 0.1172 - accuracy: 0.9592 - val_loss: 1.2839 - val_accuracy: 0.7253\n",
      "Epoch 55/1000\n",
      "9/9 [==============================] - 6s 693ms/step - loss: 0.1217 - accuracy: 0.9583 - val_loss: 1.1578 - val_accuracy: 0.7313\n"
     ]
    },
    {
     "data": {
      "text/plain": [
       "<keras.callbacks.History at 0x7fade6083e80>"
      ]
     },
     "execution_count": 29,
     "metadata": {},
     "output_type": "execute_result"
    }
   ],
   "source": [
    "# Fitting the model using the train data\n",
    "\n",
    "callback = EarlyStopping(monitor='val_loss', min_delta=0, patience=50)\n",
    "model.fit([array(trainData[0]), array(trainData[1])], array(trainData[2]), batch_size=batchSize, epochs=epochs, callbacks=[callback], validation_data=[[array(validationData[0]), array(validationData[1])], array(validationData[2])])"
   ]
  },
  {
   "cell_type": "code",
   "execution_count": 30,
   "metadata": {},
   "outputs": [
    {
     "name": "stdout",
     "output_type": "stream",
     "text": [
      "20/20 [==============================] - 2s 108ms/step - loss: 1.2887 - accuracy: 0.7265\n",
      "Loss =  1.288654088973999\n",
      "Acc =  0.726457417011261\n"
     ]
    }
   ],
   "source": [
    "# Evaluating accuracy on the trained model\n",
    "\n",
    "loss, acc = model.evaluate([array(testData[0]), array(testData[1])], array(testData[2]), batch_size=256)\n",
    "print('Loss = ', loss)\n",
    "print('Acc = ', acc)"
   ]
  },
  {
   "cell_type": "code",
   "execution_count": 31,
   "metadata": {},
   "outputs": [
    {
     "name": "stdout",
     "output_type": "stream",
     "text": [
      "INFO:tensorflow:Assets written to: ./lstm50/assets\n"
     ]
    },
    {
     "name": "stderr",
     "output_type": "stream",
     "text": [
      "INFO:tensorflow:Assets written to: ./lstm50/assets\n",
      "WARNING:absl:<keras.layers.recurrent.LSTMCell object at 0x7faeb37c78e0> has the same name 'LSTMCell' as a built-in Keras object. Consider renaming <class 'keras.layers.recurrent.LSTMCell'> to avoid naming conflicts when loading with `tf.keras.models.load_model`. If renaming is not possible, pass the object in the `custom_objects` parameter of the load function.\n"
     ]
    }
   ],
   "source": [
    "model.save('./lstm50')"
   ]
  },
  {
   "cell_type": "code",
   "execution_count": 32,
   "metadata": {},
   "outputs": [
    {
     "name": "stdout",
     "output_type": "stream",
     "text": [
      "20/20 [==============================] - 3s 109ms/step - loss: 1.2887 - accuracy: 0.7265\n",
      "0.726457417011261\n"
     ]
    }
   ],
   "source": [
    "ccc = keras.models.load_model('./lstm50')\n",
    "l, a = ccc.evaluate([array(testData[0]), array(testData[1])], array(testData[2]), batch_size=256)\n",
    "print(a)"
   ]
  }
 ],
 "metadata": {
  "interpreter": {
   "hash": "916dbcbb3f70747c44a77c7bcd40155683ae19c65e1c03b4aa3499c5328201f1"
  },
  "kernelspec": {
   "display_name": "Python 3.8.10 64-bit",
   "language": "python",
   "name": "python3"
  },
  "language_info": {
   "codemirror_mode": {
    "name": "ipython",
    "version": 3
   },
   "file_extension": ".py",
   "mimetype": "text/x-python",
   "name": "python",
   "nbconvert_exporter": "python",
   "pygments_lexer": "ipython3",
   "version": "3.8.10"
  },
  "orig_nbformat": 4
 },
 "nbformat": 4,
 "nbformat_minor": 2
}
