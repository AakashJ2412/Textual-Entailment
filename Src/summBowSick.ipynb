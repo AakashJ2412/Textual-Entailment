{
 "cells": [
  {
   "cell_type": "code",
   "execution_count": 33,
   "metadata": {},
   "outputs": [
    {
     "name": "stderr",
     "output_type": "stream",
     "text": [
      "[nltk_data] Downloading package punkt to /home/raghav/nltk_data...\n",
      "[nltk_data]   Package punkt is already up-to-date!\n"
     ]
    }
   ],
   "source": [
    "# Import the necessary libraries\n",
    "\n",
    "import re\n",
    "from numpy import array\n",
    "from numpy import asarray\n",
    "from numpy import zeros\n",
    "\n",
    "import tensorflow as tf\n",
    "import keras\n",
    "import keras.backend as K\n",
    "from keras.models import Model\n",
    "from keras.regularizers import L2\n",
    "from keras.layers.embeddings import Embedding\n",
    "from keras.layers import Dense, merge, Dropout, Input\n",
    "from keras.preprocessing.sequence import pad_sequences\n",
    "from keras.preprocessing.text import Tokenizer\n",
    "\n",
    "import nltk\n",
    "nltk.download('punkt')\n",
    "from nltk.tokenize import word_tokenize"
   ]
  },
  {
   "cell_type": "code",
   "execution_count": 34,
   "metadata": {},
   "outputs": [],
   "source": [
    "# Helper function that cleans the input data and enumerates the labels\n",
    "\n",
    "def extract(s):\n",
    "    s = re.sub('\\\\(', '', s)\n",
    "    s = re.sub('\\\\)', '', s)\n",
    "    s = re.sub('\\\\s{2,}', ' ', s)\n",
    "    return s.strip()\n",
    "\n",
    "labels = {'entailment': 0, 'contradiction': 1, 'neutral': 2}"
   ]
  },
  {
   "cell_type": "code",
   "execution_count": 35,
   "metadata": {},
   "outputs": [],
   "source": [
    "#READING TRAIN DATA\n",
    "\n",
    "fileName = 'SICK.txt'\n",
    "\n",
    "with open(fileName, 'r') as f:\n",
    "    Rows = [row.split('\\t') for row in f.readlines()[1:]]\n",
    "\n",
    "trainRows = [row for row in Rows if row[11]=='TRAIN\\n']\n",
    "testRows = [row for row in Rows if row[11]=='TEST\\n']\n",
    "\n",
    "trainPremises = [extract(row[1]) for row in trainRows if row[3] in labels]\n",
    "trainHypotheses = [extract(row[2]) for row in trainRows if row[3] in labels]\n",
    "trainLabels = [labels[row[3]] for row in trainRows if row[3] in labels]\n",
    "\n",
    "trainData = [trainPremises, trainHypotheses, trainLabels]\n",
    "\n",
    "testPremises = [extract(row[1]) for row in testRows if row[3] in labels]\n",
    "testHypotheses = [extract(row[2]) for row in testRows if row[3] in labels]\n",
    "testLabels = [labels[row[3]] for row in testRows if row[3] in labels]\n",
    "\n",
    "testData = [testPremises, testHypotheses, testLabels]\n",
    "\n",
    "f.close()"
   ]
  },
  {
   "cell_type": "code",
   "execution_count": null,
   "metadata": {},
   "outputs": [],
   "source": []
  },
  {
   "cell_type": "code",
   "execution_count": 36,
   "metadata": {},
   "outputs": [],
   "source": [
    "# Hyperparameters\n",
    "\n",
    "maxLen = 50\n",
    "epochs = 30\n",
    "batchSize = 256\n",
    "gloveDimension = 100\n",
    "regularization = 4e-6"
   ]
  },
  {
   "cell_type": "code",
   "execution_count": 37,
   "metadata": {},
   "outputs": [],
   "source": [
    "# Tokenizer to generate the vocabulary of the system\n",
    "\n",
    "tokenizer = Tokenizer()\n",
    "tokenizer.fit_on_texts(trainData[0] + trainData[1])\n",
    "vocabSize = len(tokenizer.word_index)+1"
   ]
  },
  {
   "cell_type": "code",
   "execution_count": 38,
   "metadata": {},
   "outputs": [],
   "source": [
    "# Convert the train data to sequences as per the vocabulary\n",
    "trainData[0] = tokenizer.texts_to_sequences(trainData[0])\n",
    "trainData[1] = tokenizer.texts_to_sequences(trainData[1])\n",
    "\n",
    "# Pad or trim all generated sequences to the same max sentence length\n",
    "trainData[0] = pad_sequences(trainData[0], maxLen, padding='post')\n",
    "trainData[1] = pad_sequences(trainData[1], maxLen, padding='post')\n",
    "\n",
    "# Transform the labels to one-hot encoding\n",
    "trainData[2] = tf.keras.utils.to_categorical(trainData[2], num_classes=3)"
   ]
  },
  {
   "cell_type": "code",
   "execution_count": 39,
   "metadata": {},
   "outputs": [],
   "source": [
    "# Convert the test data to sequences as per the vocabulary\n",
    "testData[0] = tokenizer.texts_to_sequences(testData[0])\n",
    "testData[1] = tokenizer.texts_to_sequences(testData[1])\n",
    "\n",
    "# Pad or trim all generated sequences to the same max sentence length\n",
    "testData[0] = pad_sequences(testData[0], maxLen, padding='post')\n",
    "testData[1] = pad_sequences(testData[1], maxLen, padding='post')\n",
    "\n",
    "# Transform the labels to one-hot encoding\n",
    "testData[2] = tf.keras.utils.to_categorical(testData[2], num_classes=3)"
   ]
  },
  {
   "cell_type": "code",
   "execution_count": 40,
   "metadata": {},
   "outputs": [],
   "source": [
    "# Load the GloVe file, via config\n",
    "embeddingsDict = dict()\n",
    "glove = open(\"/home/raghav/NLP/data/glove.6B.100d/vec.txt\")\n",
    "\n",
    "# Iterate through the GloVe file to store all the embeddings in a dictionary\n",
    "for line in glove:\n",
    "    records = line.split()\n",
    "    word = records[0]\n",
    "    vector_dimensions = asarray(records[1:], dtype='float32')\n",
    "    embeddingsDict[word] = vector_dimensions\n",
    "\n",
    "glove.close()"
   ]
  },
  {
   "cell_type": "code",
   "execution_count": 41,
   "metadata": {},
   "outputs": [],
   "source": [
    "# Iterate through the embeddings and store only those that are present in our vocabulary\n",
    "embeddingsMat = zeros((vocabSize, 100))\n",
    "for word, index in tokenizer.word_index.items():\n",
    "    vec = embeddingsDict.get(word)\n",
    "    if vec is not None:\n",
    "        embeddingsMat[index] = vec"
   ]
  },
  {
   "cell_type": "code",
   "execution_count": 42,
   "metadata": {},
   "outputs": [],
   "source": [
    "# Define the embedding layer for our baseline RNN model\n",
    "embed = Embedding(vocabSize, gloveDimension, weights=[embeddingsMat], input_length=maxLen, trainable=False)\n",
    "\n",
    "# As Premise and Hypothesis are distinct and are to be inputted separately, define two inputs and embed\n",
    "premise = Input(shape=(maxLen,), dtype='int32')\n",
    "hypothesis = Input(shape=(maxLen,), dtype='int32')\n",
    "\n",
    "premInput = embed(premise)\n",
    "hypoInput = embed(hypothesis)"
   ]
  },
  {
   "cell_type": "code",
   "execution_count": 43,
   "metadata": {},
   "outputs": [],
   "source": [
    "# Once the sentence embeddings have been generated, generate a matrix of dimensions maxLen X gloveDimension\n",
    "# On adding maxLen, we get a single embedding vector of length gloveDimension\n",
    "\n",
    "rnn = keras.layers.core.Lambda(lambda x: K.sum(x, axis=1), output_shape=gloveDimension)"
   ]
  },
  {
   "cell_type": "code",
   "execution_count": 44,
   "metadata": {},
   "outputs": [],
   "source": [
    "# Apply batch normalization to the two input embeddings separately\n",
    "\n",
    "premInput = rnn(premInput)\n",
    "hypoInput = rnn(hypoInput)\n",
    "premInput = tf.keras.layers.BatchNormalization()(premInput)\n",
    "hypoInput = tf.keras.layers.BatchNormalization()(hypoInput)"
   ]
  },
  {
   "cell_type": "code",
   "execution_count": 45,
   "metadata": {},
   "outputs": [],
   "source": [
    "# Joint is a concatenated embeddings layer, generated from the premise and hypothesis inputs\n",
    "# Dilution of probability 0.2, to assist in regularization\n",
    "joint = keras.layers.concatenate([premInput, hypoInput])\n",
    "joint = Dropout(0.2)(joint)\n",
    "for i in range(3):\n",
    "    joint = Dense(200, activation='tanh', kernel_regularizer=L2(regularization))(joint)\n",
    "    joint = Dropout(0.2)(joint)\n",
    "    joint = tf.keras.layers.BatchNormalization()(joint)\n",
    "\n",
    "# 3 layers of the TanH activation function, along with L2 regularization.\n",
    "# The final decision is based on the Softmax function\n",
    "pred = Dense(3, activation='softmax')(joint)"
   ]
  },
  {
   "cell_type": "code",
   "execution_count": 46,
   "metadata": {},
   "outputs": [],
   "source": [
    "# Defining the final models input and output format, as well as compilation parameters\n",
    "\n",
    "model = Model(inputs=[premise, hypothesis], outputs=pred)\n",
    "model.compile(optimizer='rmsprop', loss='categorical_crossentropy', metrics=['accuracy'])"
   ]
  },
  {
   "cell_type": "code",
   "execution_count": 47,
   "metadata": {},
   "outputs": [
    {
     "name": "stdout",
     "output_type": "stream",
     "text": [
      "Epoch 1/20\n",
      "18/18 [==============================] - 3s 21ms/step - loss: 1.2817 - accuracy: 0.4066\n",
      "Epoch 2/20\n",
      "18/18 [==============================] - 0s 23ms/step - loss: 1.0858 - accuracy: 0.4661\n",
      "Epoch 3/20\n",
      "18/18 [==============================] - 0s 20ms/step - loss: 1.0120 - accuracy: 0.5100\n",
      "Epoch 4/20\n",
      "18/18 [==============================] - 0s 21ms/step - loss: 0.9685 - accuracy: 0.5303\n",
      "Epoch 5/20\n",
      "18/18 [==============================] - 0s 20ms/step - loss: 0.9517 - accuracy: 0.5384\n",
      "Epoch 6/20\n",
      "18/18 [==============================] - 0s 21ms/step - loss: 0.9148 - accuracy: 0.5661\n",
      "Epoch 7/20\n",
      "18/18 [==============================] - 0s 22ms/step - loss: 0.8921 - accuracy: 0.5722\n",
      "Epoch 8/20\n",
      "18/18 [==============================] - 0s 21ms/step - loss: 0.8836 - accuracy: 0.5794\n",
      "Epoch 9/20\n",
      "18/18 [==============================] - 0s 22ms/step - loss: 0.8692 - accuracy: 0.5821\n",
      "Epoch 10/20\n",
      "18/18 [==============================] - 0s 21ms/step - loss: 0.8668 - accuracy: 0.5765\n",
      "Epoch 11/20\n",
      "18/18 [==============================] - 0s 22ms/step - loss: 0.8427 - accuracy: 0.6013\n",
      "Epoch 12/20\n",
      "18/18 [==============================] - 0s 21ms/step - loss: 0.8286 - accuracy: 0.6001\n",
      "Epoch 13/20\n",
      "18/18 [==============================] - 0s 21ms/step - loss: 0.8224 - accuracy: 0.6076\n",
      "Epoch 14/20\n",
      "18/18 [==============================] - 0s 21ms/step - loss: 0.8286 - accuracy: 0.6046\n",
      "Epoch 15/20\n",
      "18/18 [==============================] - 0s 21ms/step - loss: 0.8085 - accuracy: 0.6200\n",
      "Epoch 16/20\n",
      "18/18 [==============================] - 0s 21ms/step - loss: 0.7964 - accuracy: 0.6182\n",
      "Epoch 17/20\n",
      "18/18 [==============================] - 0s 21ms/step - loss: 0.7985 - accuracy: 0.6173\n",
      "Epoch 18/20\n",
      "18/18 [==============================] - 0s 20ms/step - loss: 0.7880 - accuracy: 0.6195\n",
      "Epoch 19/20\n",
      "18/18 [==============================] - 1s 29ms/step - loss: 0.7860 - accuracy: 0.6292\n",
      "Epoch 20/20\n",
      "18/18 [==============================] - 0s 23ms/step - loss: 0.7858 - accuracy: 0.6278\n"
     ]
    },
    {
     "data": {
      "text/plain": [
       "<keras.callbacks.History at 0x7f8504f0b160>"
      ]
     },
     "execution_count": 47,
     "metadata": {},
     "output_type": "execute_result"
    }
   ],
   "source": [
    "# Fitting the model using the train data\n",
    "\n",
    "model.fit([array(trainData[0]), array(trainData[1])], array(trainData[2]), batch_size=batchSize, epochs=epochs)"
   ]
  },
  {
   "cell_type": "code",
   "execution_count": 48,
   "metadata": {},
   "outputs": [
    {
     "name": "stdout",
     "output_type": "stream",
     "text": [
      "20/20 [==============================] - 1s 12ms/step - loss: 0.8246 - accuracy: 0.6097\n",
      "Loss =  0.8246395587921143\n",
      "Acc =  0.6096616387367249\n"
     ]
    }
   ],
   "source": [
    "# Evaluating accuracy on the trained model\n",
    "\n",
    "loss, acc = model.evaluate([array(testData[0]), array(testData[1])], array(testData[2]), batch_size=256)\n",
    "print('Loss = ', loss)\n",
    "print('Acc = ', acc)"
   ]
  }
 ],
 "metadata": {
  "interpreter": {
   "hash": "916dbcbb3f70747c44a77c7bcd40155683ae19c65e1c03b4aa3499c5328201f1"
  },
  "kernelspec": {
   "display_name": "Python 3.8.10 64-bit",
   "language": "python",
   "name": "python3"
  },
  "language_info": {
   "codemirror_mode": {
    "name": "ipython",
    "version": 3
   },
   "file_extension": ".py",
   "mimetype": "text/x-python",
   "name": "python",
   "nbconvert_exporter": "python",
   "pygments_lexer": "ipython3",
   "version": "3.8.10"
  },
  "orig_nbformat": 4
 },
 "nbformat": 4,
 "nbformat_minor": 2
}
